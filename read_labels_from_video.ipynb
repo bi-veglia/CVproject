{
 "cells": [
  {
   "cell_type": "code",
   "execution_count": 1,
   "id": "9aa99490-59c9-40c9-9108-08610c58c496",
   "metadata": {},
   "outputs": [
    {
     "name": "stderr",
     "output_type": "stream",
     "text": [
      "[W interface.cpp:47] Warning: Loading nvfuser library failed with: Error in dlopen: libnvfuser_codegen.so: cannot open shared object file: No such file or directory (function LoadingNvfuserLibrary)\n"
     ]
    }
   ],
   "source": [
    "import cv2 as cv\n",
    "from glob import glob\n",
    "import os\n",
    "import random\n",
    "from ultralytics import YOLO"
   ]
  },
  {
   "cell_type": "code",
   "execution_count": 2,
   "id": "c18ba226-b918-406b-bb9d-e4338ed11efe",
   "metadata": {},
   "outputs": [],
   "source": [
    "import ast\n",
    "import easyocr\n",
    "import numpy as np\n",
    "import pandas as pd\n",
    "import string"
   ]
  },
  {
   "cell_type": "code",
   "execution_count": 3,
   "id": "38b5a56f-24b6-4b49-a7a0-82a1fd443e9f",
   "metadata": {},
   "outputs": [],
   "source": [
    "## if training on custom data is needed ##\n",
    "#dataset = 'data/label_test2.yaml'\n",
    "#backbone = YOLO(\"yolov8s.pt\")  # load a pre-trained model (recommended for training)\n",
    "#results_train = backbone.train(data=dataset, epochs=120,name='label_test2')"
   ]
  },
  {
   "cell_type": "code",
   "execution_count": 5,
   "id": "b5b93a4b-5fa4-4230-bfd7-d32833e85fba",
   "metadata": {},
   "outputs": [],
   "source": [
    "rl_model = YOLO('models/best.pt')\n",
    "\n",
    "videos = glob('data/video/*.mp4')\n"
   ]
  },
  {
   "cell_type": "code",
   "execution_count": 9,
   "id": "00efd9fe-ff90-491d-b579-e50aa4b11133",
   "metadata": {},
   "outputs": [],
   "source": [
    "reader = easyocr.Reader(['en'], gpu=True)"
   ]
  },
  {
   "cell_type": "code",
   "execution_count": 10,
   "id": "c73f785a-c73e-4253-84b8-2888d00bbd77",
   "metadata": {},
   "outputs": [],
   "source": [
    "def read_label_digits(label_crop):\n",
    "    detections = reader.readtext(label_crop, allowlist ='0123456789')\n",
    "    for detection in detections:\n",
    "        bbox, text, score = detection\n",
    "\n",
    "        text = text.upper().replace(' ', '')\n",
    "        return text, score\n",
    "\n",
    "    return None, None"
   ]
  },
  {
   "cell_type": "code",
   "execution_count": 11,
   "id": "cef915bc-7f47-4373-806d-f8b9c13b786d",
   "metadata": {},
   "outputs": [],
   "source": [
    "def write_csv(results, output_path):\n",
    "    \n",
    "    with open(output_path, 'w') as f:\n",
    "        f.write('{},{},{},{},{},{}\\n'.format(\n",
    "            'frame_number', 'track_id', 'label_bbox', 'label_bbox_score', 'read_label',\n",
    "            'text_score'))\n",
    "\n",
    "        for frame_number in results.keys():\n",
    "            for track_id in results[frame_number].keys():\n",
    "                if 'label' in results[frame_number][track_id].keys() and \\\n",
    "                   'read_label' in results[frame_number][track_id]['label'].keys():\n",
    "                    f.write('{},{},{},{},{},{}\\n'.format(\n",
    "                        frame_number,\n",
    "                        track_id,\n",
    "                        '[{} {} {} {}]'.format(\n",
    "                            results[frame_number][track_id]['label']['bbox'][0],\n",
    "                            results[frame_number][track_id]['label']['bbox'][1],\n",
    "                            results[frame_number][track_id]['label']['bbox'][2],\n",
    "                            results[frame_number][track_id]['label']['bbox'][3]\n",
    "                        ),\n",
    "                        results[frame_number][track_id]['label']['bbox_score'],\n",
    "                        results[frame_number][track_id]['label']['read_label'],\n",
    "                        results[frame_number][track_id]['label']['text_score'])\n",
    "                    )\n",
    "        f.close()"
   ]
  },
  {
   "cell_type": "code",
   "execution_count": 12,
   "id": "1f7bdd0b-985a-4ea9-b789-9ef818f71b2e",
   "metadata": {},
   "outputs": [],
   "source": [
    "results = {}\n",
    "video = cv.VideoCapture(videos[0])\n",
    "ret = True\n",
    "frame_number = -1\n",
    "\n",
    "\n",
    "while ret:\n",
    "    frame_number += 1\n",
    "    ret, frame = video.read()\n",
    "\n",
    "    if ret and frame_number < 1400:\n",
    "        results[frame_number] = {}\n",
    "        # label detector\n",
    "        detections = rl_model.track(frame, persist=True,verbose=False)[0]\n",
    "        for detection in detections.boxes.data.tolist():\n",
    "            if len(detection)<7:\n",
    "                continue\n",
    "            else:\n",
    "                x1, y1, x2, y2, track_id, score, _ = detection\n",
    "                if score > 0.5:\n",
    "                    label_bounding_boxes = []\n",
    "                    label_bounding_boxes.append([x1, y1, x2, y2, track_id, score])\n",
    "                    # process label\n",
    "                    for label in label_bounding_boxes:\n",
    "                        label_x1, label_y1, label_x2, label_y2,_ ,label_score = label\n",
    "                        # crop plate from region of interest\n",
    "                        crop_label = frame[int(label_y1):int(label_y2), int(label_x1):int(label_x2)]\n",
    "                        \n",
    "                        # enlarge and make digits clearer\n",
    "                        gray = cv.cvtColor(cv.resize(crop_label,(0,0),fx=5,fy=5,interpolation=cv.INTER_CUBIC), cv.COLOR_BGR2GRAY)\n",
    "                        label_thresh = cv.adaptiveThreshold(cv.medianBlur(gray, 7), 255, cv.ADAPTIVE_THRESH_GAUSSIAN_C,cv.THRESH_BINARY,11,2)\n",
    "    \n",
    "                        cv.imwrite('./outputs/images/'+str(frame_number) + '_to_read.jpg', label_thresh)\n",
    "                        # OCR\n",
    "                        rl_text, rl_score = read_label_digits(label_thresh)\n",
    "    \n",
    "                        # if plate could be read write results\n",
    "                        if rl_text is not None:\n",
    "                            results[frame_number][track_id] = {\n",
    "                                'label': {\n",
    "                                    'bbox': [label_x1, label_y1, label_x2, label_y2],\n",
    "                                    'bbox_score': label_score,\n",
    "                                    'read_label': rl_text,\n",
    "                                    'text_score': rl_score}}\n",
    "\n",
    "write_csv(results, './results.csv')\n",
    "video.release()"
   ]
  },
  {
   "cell_type": "code",
   "execution_count": 13,
   "id": "2f57fd04-7c4a-4e61-81fd-01a944babbca",
   "metadata": {},
   "outputs": [],
   "source": [
    "def draw_border(img, top_left, bottom_right, color=(0, 255, 0), thickness=6, line_length_x=200, line_length_y=200):\n",
    "    x1, y1 = top_left\n",
    "    x2, y2 = bottom_right\n",
    "\n",
    "    cv.line(img, (x1, y1), (x1, y1 + line_length_y), color, thickness)  #-- top-left\n",
    "    cv.line(img, (x1, y1), (x1 + line_length_x, y1), color, thickness)\n",
    "\n",
    "    cv.line(img, (x1, y2), (x1, y2 - line_length_y), color, thickness)  #-- bottom-left\n",
    "    cv.line(img, (x1, y2), (x1 + line_length_x, y2), color, thickness)\n",
    "\n",
    "    cv.line(img, (x2, y1), (x2 - line_length_x, y1), color, thickness)  #-- top-right\n",
    "    cv.line(img, (x2, y1), (x2, y1 + line_length_y), color, thickness)\n",
    "\n",
    "    cv.line(img, (x2, y2), (x2, y2 - line_length_y), color, thickness)  #-- bottom-right\n",
    "    cv.line(img, (x2, y2), (x2 - line_length_x, y2), color, thickness)\n",
    "\n",
    "    return img"
   ]
  },
  {
   "cell_type": "code",
   "execution_count": 14,
   "id": "7715294a-8247-49bc-874b-f8ba27959568",
   "metadata": {},
   "outputs": [
    {
     "data": {
      "text/plain": [
       "True"
      ]
     },
     "execution_count": 14,
     "metadata": {},
     "output_type": "execute_result"
    }
   ],
   "source": [
    "# read video by index\n",
    "video = cv.VideoCapture(videos[0])\n",
    "\n",
    "# get video dims\n",
    "frame_width = int(video.get(3))\n",
    "frame_height = int(video.get(4))\n",
    "size = (frame_width, frame_height)\n",
    "\n",
    "# Define the codec and create VideoWriter object\n",
    "fourcc = cv.VideoWriter_fourcc(*'DIVX')\n",
    "out = cv.VideoWriter('./outputs/processed.avi', fourcc, 20.0, size)\n",
    "\n",
    "# reset video before you re-run cell below\n",
    "frame_number = -1\n",
    "video.set(cv.CAP_PROP_POS_FRAMES, 0)"
   ]
  },
  {
   "cell_type": "code",
   "execution_count": 15,
   "id": "989e72ec-c4ab-47c1-9f86-05c4a6b1822a",
   "metadata": {},
   "outputs": [],
   "source": [
    "ret = True\n",
    "results = pd.read_csv('./results.csv')\n",
    "while ret:\n",
    "    ret, frame = video.read()\n",
    "    frame_number += 1\n",
    "    if ret:\n",
    "        df_ = results[results['frame_number'] == frame_number]\n",
    "        for index in range(len(df_)):\n",
    "            \n",
    "            # draw label box\n",
    "            label_x1, label_y1, label_x2, label_y2 = ast.literal_eval(df_.iloc[index]['label_bbox'].replace('[ ', '[').replace('   ', ' ').replace('  ', ' ').replace(' ', ','))\n",
    "\n",
    "            # region of interest\n",
    "            cv.rectangle(frame, (int(label_x1), int(label_y1)), (int(label_x2), int(label_y2)), (0, 0, 255), 6)\n",
    "\n",
    "            # write detected number\n",
    "            (text_width, text_height), _ = cv.getTextSize(\n",
    "                str(df_.iloc[index]['read_label']),\n",
    "                cv.FONT_HERSHEY_SIMPLEX,\n",
    "                2,\n",
    "                6)\n",
    "\n",
    "            cv.putText(\n",
    "                frame,\n",
    "                str(df_.iloc[index]['read_label']),\n",
    "                (int((label_x2 + label_x1 - text_width)/2), int(label_y1 - text_height)),\n",
    "                cv.FONT_HERSHEY_SIMPLEX,\n",
    "                2,\n",
    "                (0, 255, 0),\n",
    "                6\n",
    "            )\n",
    "\n",
    "        out.write(frame)\n",
    "        frame = cv.resize(frame, (1280, 720))\n",
    "\n",
    "out.release()\n",
    "video.release()"
   ]
  },
  {
   "cell_type": "code",
   "execution_count": null,
   "id": "3fa2b479-1bd0-4df5-afac-c1caf0a50344",
   "metadata": {},
   "outputs": [],
   "source": []
  }
 ],
 "metadata": {
  "kernelspec": {
   "display_name": "yolo",
   "language": "python",
   "name": "yolo"
  },
  "language_info": {
   "codemirror_mode": {
    "name": "ipython",
    "version": 3
   },
   "file_extension": ".py",
   "mimetype": "text/x-python",
   "name": "python",
   "nbconvert_exporter": "python",
   "pygments_lexer": "ipython3",
   "version": "3.9.17"
  }
 },
 "nbformat": 4,
 "nbformat_minor": 5
}
